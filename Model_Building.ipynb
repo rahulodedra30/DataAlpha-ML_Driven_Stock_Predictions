{
 "cells": [
  {
   "cell_type": "markdown",
   "metadata": {},
   "source": [
    "> # Trading Strategies using Machine Learning\n",
    "---"
   ]
  },
  {
   "cell_type": "markdown",
   "metadata": {},
   "source": [
    "### Built ML models on the features prepared, and Compared performace\n",
    "---"
   ]
  },
  {
   "cell_type": "markdown",
   "metadata": {},
   "source": [
    "- Propose and train 3-6 models by feeding in the features prepared,  Compare the model performance using RMSE between the fitted Y and actual Y in testing period.  "
   ]
  },
  {
   "cell_type": "code",
   "execution_count": 1,
   "metadata": {},
   "outputs": [
    {
     "name": "stderr",
     "output_type": "stream",
     "text": [
      "/Users/rahulodedra/anaconda3/lib/python3.11/site-packages/yfinance/base.py:48: FutureWarning: The default dtype for empty Series will be 'object' instead of 'float64' in a future version. Specify a dtype explicitly to silence this warning.\n",
      "  _empty_series = pd.Series()\n"
     ]
    }
   ],
   "source": [
    "from datetime import datetime, timedelta\n",
    "import matplotlib.pyplot as plt\n",
    "import numpy as np\n",
    "import pandas as pd\n",
    "import seaborn as sns\n",
    "import scipy.stats as ss\n",
    "import statsmodels.api as sm\n",
    "from fredapi import Fred\n",
    "from functools import reduce\n",
    "from pandas_datareader import DataReader\n",
    "import warnings\n",
    "import yfinance as yf\n",
    "from scipy.optimize import minimize\n",
    "from sklearn.ensemble import RandomForestRegressor\n",
    "from sklearn.metrics import r2_score, mean_squared_error\n",
    "from sklearn.model_selection import GridSearchCV, cross_val_score, train_test_split\n",
    "from sklearn import linear_model\n",
    "import xgboost\n",
    "from statsmodels.api import OLS, add_constant\n",
    "from statsmodels.tsa.arima_model import ARIMA\n",
    "from statsmodels.tsa.seasonal import seasonal_decompose\n",
    "from statsmodels.tsa.statespace.sarimax import SARIMAX"
   ]
  },
  {
   "cell_type": "code",
   "execution_count": 2,
   "metadata": {},
   "outputs": [
    {
     "data": {
      "text/html": [
       "<div>\n",
       "<style scoped>\n",
       "    .dataframe tbody tr th:only-of-type {\n",
       "        vertical-align: middle;\n",
       "    }\n",
       "\n",
       "    .dataframe tbody tr th {\n",
       "        vertical-align: top;\n",
       "    }\n",
       "\n",
       "    .dataframe thead th {\n",
       "        text-align: right;\n",
       "    }\n",
       "</style>\n",
       "<table border=\"1\" class=\"dataframe\">\n",
       "  <thead>\n",
       "    <tr style=\"text-align: right;\">\n",
       "      <th></th>\n",
       "      <th>Shanghai comp</th>\n",
       "      <th>BSE</th>\n",
       "      <th>Bovespa</th>\n",
       "      <th>HangSeng</th>\n",
       "      <th>Kospi</th>\n",
       "      <th>Nikkei225</th>\n",
       "      <th>Adj Close</th>\n",
       "      <th>Volume</th>\n",
       "      <th>Mkt-RF</th>\n",
       "      <th>SMB</th>\n",
       "      <th>...</th>\n",
       "      <th>AMERIBOR</th>\n",
       "      <th>T10YIE_y</th>\n",
       "      <th>T5YIE</th>\n",
       "      <th>BAMLH0A0HYM2</th>\n",
       "      <th>BAMLH0A0HYM2EY</th>\n",
       "      <th>DGS10</th>\n",
       "      <th>DGS1</th>\n",
       "      <th>RIFSPPFAAD90NB</th>\n",
       "      <th>DCOILWTICO</th>\n",
       "      <th>DHHNGSP</th>\n",
       "    </tr>\n",
       "    <tr>\n",
       "      <th>Date</th>\n",
       "      <th></th>\n",
       "      <th></th>\n",
       "      <th></th>\n",
       "      <th></th>\n",
       "      <th></th>\n",
       "      <th></th>\n",
       "      <th></th>\n",
       "      <th></th>\n",
       "      <th></th>\n",
       "      <th></th>\n",
       "      <th></th>\n",
       "      <th></th>\n",
       "      <th></th>\n",
       "      <th></th>\n",
       "      <th></th>\n",
       "      <th></th>\n",
       "      <th></th>\n",
       "      <th></th>\n",
       "      <th></th>\n",
       "      <th></th>\n",
       "      <th></th>\n",
       "    </tr>\n",
       "  </thead>\n",
       "  <tbody>\n",
       "    <tr>\n",
       "      <th>2018-01-04</th>\n",
       "      <td>3385.709961</td>\n",
       "      <td>33969.640625</td>\n",
       "      <td>78647.0</td>\n",
       "      <td>30736.480469</td>\n",
       "      <td>2466.459961</td>\n",
       "      <td>23506.330078</td>\n",
       "      <td>20.974667</td>\n",
       "      <td>149194500</td>\n",
       "      <td>0.42</td>\n",
       "      <td>-0.22</td>\n",
       "      <td>...</td>\n",
       "      <td>1.55779</td>\n",
       "      <td>2.01</td>\n",
       "      <td>1.92</td>\n",
       "      <td>3.40</td>\n",
       "      <td>5.67</td>\n",
       "      <td>2.46</td>\n",
       "      <td>1.82</td>\n",
       "      <td>1.65</td>\n",
       "      <td>61.98</td>\n",
       "      <td>4.65</td>\n",
       "    </tr>\n",
       "    <tr>\n",
       "      <th>2018-01-09</th>\n",
       "      <td>3413.899902</td>\n",
       "      <td>34443.191406</td>\n",
       "      <td>78864.0</td>\n",
       "      <td>31011.410156</td>\n",
       "      <td>2510.229980</td>\n",
       "      <td>23849.990234</td>\n",
       "      <td>22.246000</td>\n",
       "      <td>107199000</td>\n",
       "      <td>0.15</td>\n",
       "      <td>-0.39</td>\n",
       "      <td>...</td>\n",
       "      <td>1.55600</td>\n",
       "      <td>2.03</td>\n",
       "      <td>1.95</td>\n",
       "      <td>3.33</td>\n",
       "      <td>5.66</td>\n",
       "      <td>2.55</td>\n",
       "      <td>1.78</td>\n",
       "      <td>1.64</td>\n",
       "      <td>62.92</td>\n",
       "      <td>2.93</td>\n",
       "    </tr>\n",
       "    <tr>\n",
       "      <th>2018-01-10</th>\n",
       "      <td>3421.833984</td>\n",
       "      <td>34433.070312</td>\n",
       "      <td>78201.0</td>\n",
       "      <td>31073.720703</td>\n",
       "      <td>2499.750000</td>\n",
       "      <td>23788.199219</td>\n",
       "      <td>22.320000</td>\n",
       "      <td>64648500</td>\n",
       "      <td>-0.07</td>\n",
       "      <td>0.14</td>\n",
       "      <td>...</td>\n",
       "      <td>1.55585</td>\n",
       "      <td>2.03</td>\n",
       "      <td>1.94</td>\n",
       "      <td>3.42</td>\n",
       "      <td>5.75</td>\n",
       "      <td>2.55</td>\n",
       "      <td>1.78</td>\n",
       "      <td>1.57</td>\n",
       "      <td>63.60</td>\n",
       "      <td>3.16</td>\n",
       "    </tr>\n",
       "    <tr>\n",
       "      <th>2018-01-11</th>\n",
       "      <td>3425.344971</td>\n",
       "      <td>34503.488281</td>\n",
       "      <td>79365.0</td>\n",
       "      <td>31120.390625</td>\n",
       "      <td>2487.909912</td>\n",
       "      <td>23710.429688</td>\n",
       "      <td>22.530001</td>\n",
       "      <td>99682500</td>\n",
       "      <td>0.87</td>\n",
       "      <td>1.13</td>\n",
       "      <td>...</td>\n",
       "      <td>1.55484</td>\n",
       "      <td>2.00</td>\n",
       "      <td>1.89</td>\n",
       "      <td>3.40</td>\n",
       "      <td>5.72</td>\n",
       "      <td>2.54</td>\n",
       "      <td>1.77</td>\n",
       "      <td>1.58</td>\n",
       "      <td>63.81</td>\n",
       "      <td>3.16</td>\n",
       "    </tr>\n",
       "    <tr>\n",
       "      <th>2018-01-12</th>\n",
       "      <td>3428.940918</td>\n",
       "      <td>34592.390625</td>\n",
       "      <td>79349.0</td>\n",
       "      <td>31412.539062</td>\n",
       "      <td>2496.419922</td>\n",
       "      <td>23653.820312</td>\n",
       "      <td>22.414667</td>\n",
       "      <td>72376500</td>\n",
       "      <td>0.66</td>\n",
       "      <td>-0.33</td>\n",
       "      <td>...</td>\n",
       "      <td>1.55643</td>\n",
       "      <td>2.01</td>\n",
       "      <td>1.92</td>\n",
       "      <td>3.37</td>\n",
       "      <td>5.72</td>\n",
       "      <td>2.55</td>\n",
       "      <td>1.78</td>\n",
       "      <td>1.65</td>\n",
       "      <td>64.22</td>\n",
       "      <td>4.06</td>\n",
       "    </tr>\n",
       "  </tbody>\n",
       "</table>\n",
       "<p>5 rows × 37 columns</p>\n",
       "</div>"
      ],
      "text/plain": [
       "            Shanghai comp           BSE  Bovespa      HangSeng        Kospi  \\\n",
       "Date                                                                          \n",
       "2018-01-04    3385.709961  33969.640625  78647.0  30736.480469  2466.459961   \n",
       "2018-01-09    3413.899902  34443.191406  78864.0  31011.410156  2510.229980   \n",
       "2018-01-10    3421.833984  34433.070312  78201.0  31073.720703  2499.750000   \n",
       "2018-01-11    3425.344971  34503.488281  79365.0  31120.390625  2487.909912   \n",
       "2018-01-12    3428.940918  34592.390625  79349.0  31412.539062  2496.419922   \n",
       "\n",
       "               Nikkei225  Adj Close     Volume  Mkt-RF   SMB  ...  AMERIBOR  \\\n",
       "Date                                                          ...             \n",
       "2018-01-04  23506.330078  20.974667  149194500    0.42 -0.22  ...   1.55779   \n",
       "2018-01-09  23849.990234  22.246000  107199000    0.15 -0.39  ...   1.55600   \n",
       "2018-01-10  23788.199219  22.320000   64648500   -0.07  0.14  ...   1.55585   \n",
       "2018-01-11  23710.429688  22.530001   99682500    0.87  1.13  ...   1.55484   \n",
       "2018-01-12  23653.820312  22.414667   72376500    0.66 -0.33  ...   1.55643   \n",
       "\n",
       "            T10YIE_y  T5YIE  BAMLH0A0HYM2  BAMLH0A0HYM2EY  DGS10  DGS1  \\\n",
       "Date                                                                     \n",
       "2018-01-04      2.01   1.92          3.40            5.67   2.46  1.82   \n",
       "2018-01-09      2.03   1.95          3.33            5.66   2.55  1.78   \n",
       "2018-01-10      2.03   1.94          3.42            5.75   2.55  1.78   \n",
       "2018-01-11      2.00   1.89          3.40            5.72   2.54  1.77   \n",
       "2018-01-12      2.01   1.92          3.37            5.72   2.55  1.78   \n",
       "\n",
       "            RIFSPPFAAD90NB  DCOILWTICO  DHHNGSP  \n",
       "Date                                             \n",
       "2018-01-04            1.65       61.98     4.65  \n",
       "2018-01-09            1.64       62.92     2.93  \n",
       "2018-01-10            1.57       63.60     3.16  \n",
       "2018-01-11            1.58       63.81     3.16  \n",
       "2018-01-12            1.65       64.22     4.06  \n",
       "\n",
       "[5 rows x 37 columns]"
      ]
     },
     "execution_count": 2,
     "metadata": {},
     "output_type": "execute_result"
    }
   ],
   "source": [
    "df=pd.read_csv('feature_mart.csv',index_col=0)\n",
    "df.head()"
   ]
  },
  {
   "cell_type": "markdown",
   "metadata": {},
   "source": [
    "> ### Model building\n",
    "---"
   ]
  },
  {
   "cell_type": "markdown",
   "metadata": {},
   "source": [
    "### Linear Regression"
   ]
  },
  {
   "cell_type": "code",
   "execution_count": 3,
   "metadata": {},
   "outputs": [
    {
     "name": "stdout",
     "output_type": "stream",
     "text": [
      "\n",
      "Linear Regression Model Summary:\n",
      "\n",
      "RMSE: 20.183321228267076\n",
      "R-squared: 0.9702744598398155\n",
      "Adjusted R-squared: 0.9688070495357162\n"
     ]
    }
   ],
   "source": [
    "X=df.drop('Adj Close',axis=1)\n",
    "y=df['Adj Close']\n",
    "# y=np.diff(np.log(df['Adj Close'].values))\n",
    "# y=np.append(y[0],y)\n",
    "\n",
    "X_train,X_test,y_train,y_test=train_test_split(X,y,test_size=0.2,random_state=42)\n",
    "\n",
    "# Linear Regression\n",
    "linear_model = sm.OLS(y_train, sm.add_constant(X_train)).fit()\n",
    "y_pred = linear_model.predict(sm.add_constant(X_test))\n",
    "lr_rmse = mean_squared_error(y_test,y_pred,squared=False)\n",
    "linear_r_squared = linear_model.rsquared\n",
    "linear_adj_r_squared = linear_model.rsquared_adj\n",
    "\n",
    "print(\"\\nLinear Regression Model Summary:\")\n",
    "print(\"\\nRMSE:\",lr_rmse)\n",
    "print(\"R-squared:\", linear_r_squared)\n",
    "print(\"Adjusted R-squared:\", linear_adj_r_squared)"
   ]
  },
  {
   "cell_type": "markdown",
   "metadata": {},
   "source": [
    "### Random Forest "
   ]
  },
  {
   "cell_type": "code",
   "execution_count": 4,
   "metadata": {},
   "outputs": [
    {
     "name": "stdout",
     "output_type": "stream",
     "text": [
      "\n",
      "Random Forest Model Summary:\n",
      "\n",
      "RMSE: 20.35505002524641\n",
      "R-squared: 0.9687389167009177\n",
      "Adjusted R-squared: 0.9671493700924898\n"
     ]
    }
   ],
   "source": [
    "X=df.drop('Adj Close',axis=1)\n",
    "y=df['Adj Close']\n",
    "# y=np.diff(np.log(df['Adj Close'].values))\n",
    "# y=np.append(y[0],y)\n",
    "\n",
    "X_train,X_test,y_train,y_test=train_test_split(X,y,test_size=0.2,random_state=42)\n",
    "\n",
    "rf=RandomForestRegressor(n_estimators=100,\n",
    "                           criterion='squared_error',\n",
    "                           max_depth=3,\n",
    "                           min_samples_split=2,\n",
    "                           bootstrap=True,\n",
    "                           random_state=42)\n",
    "rf.fit(X_train,y_train)\n",
    "y_pred=rf.predict(X_test)\n",
    "\n",
    "rf_rmse = np.sqrt(mean_squared_error(y_test,y_pred))\n",
    "rf_r2_score = r2_score(y_test, y_pred)\n",
    "n = X_train.shape[0]\n",
    "p = X_train.shape[1]\n",
    "rf_adj_r2_score = 1-(1-rf_r2_score)*((n-1)/(n-p-1))\n",
    "\n",
    "print(\"\\nRandom Forest Model Summary:\")\n",
    "print(\"\\nRMSE:\",rf_rmse)\n",
    "print(\"R-squared:\", rf_r2_score)\n",
    "print(\"Adjusted R-squared:\", rf_adj_r2_score)"
   ]
  },
  {
   "cell_type": "markdown",
   "metadata": {},
   "source": [
    "### XGBoost "
   ]
  },
  {
   "cell_type": "code",
   "execution_count": 5,
   "metadata": {},
   "outputs": [
    {
     "data": {
      "text/html": [
       "<style>#sk-container-id-1 {color: black;background-color: white;}#sk-container-id-1 pre{padding: 0;}#sk-container-id-1 div.sk-toggleable {background-color: white;}#sk-container-id-1 label.sk-toggleable__label {cursor: pointer;display: block;width: 100%;margin-bottom: 0;padding: 0.3em;box-sizing: border-box;text-align: center;}#sk-container-id-1 label.sk-toggleable__label-arrow:before {content: \"▸\";float: left;margin-right: 0.25em;color: #696969;}#sk-container-id-1 label.sk-toggleable__label-arrow:hover:before {color: black;}#sk-container-id-1 div.sk-estimator:hover label.sk-toggleable__label-arrow:before {color: black;}#sk-container-id-1 div.sk-toggleable__content {max-height: 0;max-width: 0;overflow: hidden;text-align: left;background-color: #f0f8ff;}#sk-container-id-1 div.sk-toggleable__content pre {margin: 0.2em;color: black;border-radius: 0.25em;background-color: #f0f8ff;}#sk-container-id-1 input.sk-toggleable__control:checked~div.sk-toggleable__content {max-height: 200px;max-width: 100%;overflow: auto;}#sk-container-id-1 input.sk-toggleable__control:checked~label.sk-toggleable__label-arrow:before {content: \"▾\";}#sk-container-id-1 div.sk-estimator input.sk-toggleable__control:checked~label.sk-toggleable__label {background-color: #d4ebff;}#sk-container-id-1 div.sk-label input.sk-toggleable__control:checked~label.sk-toggleable__label {background-color: #d4ebff;}#sk-container-id-1 input.sk-hidden--visually {border: 0;clip: rect(1px 1px 1px 1px);clip: rect(1px, 1px, 1px, 1px);height: 1px;margin: -1px;overflow: hidden;padding: 0;position: absolute;width: 1px;}#sk-container-id-1 div.sk-estimator {font-family: monospace;background-color: #f0f8ff;border: 1px dotted black;border-radius: 0.25em;box-sizing: border-box;margin-bottom: 0.5em;}#sk-container-id-1 div.sk-estimator:hover {background-color: #d4ebff;}#sk-container-id-1 div.sk-parallel-item::after {content: \"\";width: 100%;border-bottom: 1px solid gray;flex-grow: 1;}#sk-container-id-1 div.sk-label:hover label.sk-toggleable__label {background-color: #d4ebff;}#sk-container-id-1 div.sk-serial::before {content: \"\";position: absolute;border-left: 1px solid gray;box-sizing: border-box;top: 0;bottom: 0;left: 50%;z-index: 0;}#sk-container-id-1 div.sk-serial {display: flex;flex-direction: column;align-items: center;background-color: white;padding-right: 0.2em;padding-left: 0.2em;position: relative;}#sk-container-id-1 div.sk-item {position: relative;z-index: 1;}#sk-container-id-1 div.sk-parallel {display: flex;align-items: stretch;justify-content: center;background-color: white;position: relative;}#sk-container-id-1 div.sk-item::before, #sk-container-id-1 div.sk-parallel-item::before {content: \"\";position: absolute;border-left: 1px solid gray;box-sizing: border-box;top: 0;bottom: 0;left: 50%;z-index: -1;}#sk-container-id-1 div.sk-parallel-item {display: flex;flex-direction: column;z-index: 1;position: relative;background-color: white;}#sk-container-id-1 div.sk-parallel-item:first-child::after {align-self: flex-end;width: 50%;}#sk-container-id-1 div.sk-parallel-item:last-child::after {align-self: flex-start;width: 50%;}#sk-container-id-1 div.sk-parallel-item:only-child::after {width: 0;}#sk-container-id-1 div.sk-dashed-wrapped {border: 1px dashed gray;margin: 0 0.4em 0.5em 0.4em;box-sizing: border-box;padding-bottom: 0.4em;background-color: white;}#sk-container-id-1 div.sk-label label {font-family: monospace;font-weight: bold;display: inline-block;line-height: 1.2em;}#sk-container-id-1 div.sk-label-container {text-align: center;}#sk-container-id-1 div.sk-container {/* jupyter's `normalize.less` sets `[hidden] { display: none; }` but bootstrap.min.css set `[hidden] { display: none !important; }` so we also need the `!important` here to be able to override the default hidden behavior on the sphinx rendered scikit-learn.org. See: https://github.com/scikit-learn/scikit-learn/issues/21755 */display: inline-block !important;position: relative;}#sk-container-id-1 div.sk-text-repr-fallback {display: none;}</style><div id=\"sk-container-id-1\" class=\"sk-top-container\"><div class=\"sk-text-repr-fallback\"><pre>GridSearchCV(cv=5,\n",
       "             estimator=XGBRegressor(base_score=None, booster=&#x27;gbtree&#x27;,\n",
       "                                    callbacks=None, colsample_bylevel=None,\n",
       "                                    colsample_bynode=None,\n",
       "                                    colsample_bytree=None, device=None,\n",
       "                                    early_stopping_rounds=None,\n",
       "                                    enable_categorical=False, eval_metric=None,\n",
       "                                    feature_types=None, gamma=None,\n",
       "                                    grow_policy=None, importance_type=None,\n",
       "                                    interaction_constraints=None,\n",
       "                                    learning_rate=No...,\n",
       "                                    max_cat_threshold=None,\n",
       "                                    max_cat_to_onehot=None, max_delta_step=None,\n",
       "                                    max_depth=None, max_leaves=None,\n",
       "                                    min_child_weight=None, missing=nan,\n",
       "                                    monotone_constraints=None,\n",
       "                                    multi_strategy=None, n_estimators=None,\n",
       "                                    n_jobs=None, num_parallel_tree=None,\n",
       "                                    random_state=None, ...),\n",
       "             param_grid={&#x27;learning_rate&#x27;: [0.01, 0.05, 0.1],\n",
       "                         &#x27;max_depth&#x27;: [2, 4, 6],\n",
       "                         &#x27;n_estimators&#x27;: [20, 50, 100, 200]})</pre><b>In a Jupyter environment, please rerun this cell to show the HTML representation or trust the notebook. <br />On GitHub, the HTML representation is unable to render, please try loading this page with nbviewer.org.</b></div><div class=\"sk-container\" hidden><div class=\"sk-item sk-dashed-wrapped\"><div class=\"sk-label-container\"><div class=\"sk-label sk-toggleable\"><input class=\"sk-toggleable__control sk-hidden--visually\" id=\"sk-estimator-id-1\" type=\"checkbox\" ><label for=\"sk-estimator-id-1\" class=\"sk-toggleable__label sk-toggleable__label-arrow\">GridSearchCV</label><div class=\"sk-toggleable__content\"><pre>GridSearchCV(cv=5,\n",
       "             estimator=XGBRegressor(base_score=None, booster=&#x27;gbtree&#x27;,\n",
       "                                    callbacks=None, colsample_bylevel=None,\n",
       "                                    colsample_bynode=None,\n",
       "                                    colsample_bytree=None, device=None,\n",
       "                                    early_stopping_rounds=None,\n",
       "                                    enable_categorical=False, eval_metric=None,\n",
       "                                    feature_types=None, gamma=None,\n",
       "                                    grow_policy=None, importance_type=None,\n",
       "                                    interaction_constraints=None,\n",
       "                                    learning_rate=No...,\n",
       "                                    max_cat_threshold=None,\n",
       "                                    max_cat_to_onehot=None, max_delta_step=None,\n",
       "                                    max_depth=None, max_leaves=None,\n",
       "                                    min_child_weight=None, missing=nan,\n",
       "                                    monotone_constraints=None,\n",
       "                                    multi_strategy=None, n_estimators=None,\n",
       "                                    n_jobs=None, num_parallel_tree=None,\n",
       "                                    random_state=None, ...),\n",
       "             param_grid={&#x27;learning_rate&#x27;: [0.01, 0.05, 0.1],\n",
       "                         &#x27;max_depth&#x27;: [2, 4, 6],\n",
       "                         &#x27;n_estimators&#x27;: [20, 50, 100, 200]})</pre></div></div></div><div class=\"sk-parallel\"><div class=\"sk-parallel-item\"><div class=\"sk-item\"><div class=\"sk-label-container\"><div class=\"sk-label sk-toggleable\"><input class=\"sk-toggleable__control sk-hidden--visually\" id=\"sk-estimator-id-2\" type=\"checkbox\" ><label for=\"sk-estimator-id-2\" class=\"sk-toggleable__label sk-toggleable__label-arrow\">estimator: XGBRegressor</label><div class=\"sk-toggleable__content\"><pre>XGBRegressor(base_score=None, booster=&#x27;gbtree&#x27;, callbacks=None,\n",
       "             colsample_bylevel=None, colsample_bynode=None,\n",
       "             colsample_bytree=None, device=None, early_stopping_rounds=None,\n",
       "             enable_categorical=False, eval_metric=None, feature_types=None,\n",
       "             gamma=None, grow_policy=None, importance_type=None,\n",
       "             interaction_constraints=None, learning_rate=None, max_bin=None,\n",
       "             max_cat_threshold=None, max_cat_to_onehot=None,\n",
       "             max_delta_step=None, max_depth=None, max_leaves=None,\n",
       "             min_child_weight=None, missing=nan, monotone_constraints=None,\n",
       "             multi_strategy=None, n_estimators=None, n_jobs=None,\n",
       "             num_parallel_tree=None, random_state=None, ...)</pre></div></div></div><div class=\"sk-serial\"><div class=\"sk-item\"><div class=\"sk-estimator sk-toggleable\"><input class=\"sk-toggleable__control sk-hidden--visually\" id=\"sk-estimator-id-3\" type=\"checkbox\" ><label for=\"sk-estimator-id-3\" class=\"sk-toggleable__label sk-toggleable__label-arrow\">XGBRegressor</label><div class=\"sk-toggleable__content\"><pre>XGBRegressor(base_score=None, booster=&#x27;gbtree&#x27;, callbacks=None,\n",
       "             colsample_bylevel=None, colsample_bynode=None,\n",
       "             colsample_bytree=None, device=None, early_stopping_rounds=None,\n",
       "             enable_categorical=False, eval_metric=None, feature_types=None,\n",
       "             gamma=None, grow_policy=None, importance_type=None,\n",
       "             interaction_constraints=None, learning_rate=None, max_bin=None,\n",
       "             max_cat_threshold=None, max_cat_to_onehot=None,\n",
       "             max_delta_step=None, max_depth=None, max_leaves=None,\n",
       "             min_child_weight=None, missing=nan, monotone_constraints=None,\n",
       "             multi_strategy=None, n_estimators=None, n_jobs=None,\n",
       "             num_parallel_tree=None, random_state=None, ...)</pre></div></div></div></div></div></div></div></div></div></div>"
      ],
      "text/plain": [
       "GridSearchCV(cv=5,\n",
       "             estimator=XGBRegressor(base_score=None, booster='gbtree',\n",
       "                                    callbacks=None, colsample_bylevel=None,\n",
       "                                    colsample_bynode=None,\n",
       "                                    colsample_bytree=None, device=None,\n",
       "                                    early_stopping_rounds=None,\n",
       "                                    enable_categorical=False, eval_metric=None,\n",
       "                                    feature_types=None, gamma=None,\n",
       "                                    grow_policy=None, importance_type=None,\n",
       "                                    interaction_constraints=None,\n",
       "                                    learning_rate=No...,\n",
       "                                    max_cat_threshold=None,\n",
       "                                    max_cat_to_onehot=None, max_delta_step=None,\n",
       "                                    max_depth=None, max_leaves=None,\n",
       "                                    min_child_weight=None, missing=nan,\n",
       "                                    monotone_constraints=None,\n",
       "                                    multi_strategy=None, n_estimators=None,\n",
       "                                    n_jobs=None, num_parallel_tree=None,\n",
       "                                    random_state=None, ...),\n",
       "             param_grid={'learning_rate': [0.01, 0.05, 0.1],\n",
       "                         'max_depth': [2, 4, 6],\n",
       "                         'n_estimators': [20, 50, 100, 200]})"
      ]
     },
     "execution_count": 5,
     "metadata": {},
     "output_type": "execute_result"
    }
   ],
   "source": [
    "X=df.drop('Adj Close',axis=1)\n",
    "y=df['Adj Close']\n",
    "# y=np.diff(np.log(df['Adj Close'].values))\n",
    "# y=np.append(y[0],y)\n",
    "\n",
    "X_train,X_test,y_train,y_test=train_test_split(X,y,test_size=0.2,random_state=42)\n",
    "\n",
    "xgb = xgboost.XGBRegressor(booster='gbtree',objective='reg:squarederror')\n",
    "param_grid = {'learning_rate':[0.01,0.05,0.1],\n",
    "              'max_depth': [2,4,6],\n",
    "              'n_estimators': [20,50,100,200]}\n",
    "\n",
    "xgb_model = GridSearchCV(estimator=xgb, param_grid=param_grid,cv=5)\n",
    "xgb_model.fit(X_train,y_train)"
   ]
  },
  {
   "cell_type": "code",
   "execution_count": 6,
   "metadata": {},
   "outputs": [
    {
     "name": "stdout",
     "output_type": "stream",
     "text": [
      "0.9902469786025441\n",
      "Best Params:  {'learning_rate': 0.1, 'max_depth': 4, 'n_estimators': 200}\n"
     ]
    }
   ],
   "source": [
    "print(xgb_model.best_score_)\n",
    "xg_params=xgb_model.best_params_\n",
    "print('Best Params: ',xg_params)"
   ]
  },
  {
   "cell_type": "code",
   "execution_count": 7,
   "metadata": {},
   "outputs": [],
   "source": [
    "top_param_model = xgb_model.best_estimator_"
   ]
  },
  {
   "cell_type": "code",
   "execution_count": 8,
   "metadata": {},
   "outputs": [
    {
     "name": "stdout",
     "output_type": "stream",
     "text": [
      "\n",
      "XGBoost Model Summary:\n",
      "\n",
      "RMSE: 9.068397221446896\n",
      "R-squared: 0.9937953006007614\n",
      "Adjusted R-squared: 0.9934798074109695\n"
     ]
    }
   ],
   "source": [
    "y_pred = top_param_model.predict(X_test)\n",
    "xg_rmse = np.sqrt(mean_squared_error(y_test,y_pred))\n",
    "xgb_r2_score = r2_score(y_test, y_pred)\n",
    "n = X_train.shape[0]\n",
    "p = X_train.shape[1]\n",
    "xgb_adj_r2_score = 1-(1-xgb_r2_score)*((n-1)/(n-p-1))\n",
    "\n",
    "print(\"\\nXGBoost Model Summary:\")\n",
    "print(\"\\nRMSE:\",xg_rmse)\n",
    "print(\"R-squared:\", xgb_r2_score)\n",
    "print(\"Adjusted R-squared:\", xgb_adj_r2_score)"
   ]
  },
  {
   "cell_type": "markdown",
   "metadata": {},
   "source": [
    "### SARIMAX"
   ]
  },
  {
   "cell_type": "code",
   "execution_count": 9,
   "metadata": {},
   "outputs": [
    {
     "name": "stderr",
     "output_type": "stream",
     "text": [
      "[*********************100%%**********************]  1 of 1 completed\n"
     ]
    }
   ],
   "source": [
    "start_date = '2018-01-01'\n",
    "end_date = '2023-12-31'\n",
    "ticker = 'TSLA' \n",
    "\n",
    "def get_stock_data(ticker,start_date=start_date,end_date=end_date):\n",
    "    data = yf.download(ticker,start_date,end_date)\n",
    "    return data['Adj Close']\n",
    "\n",
    "# get historical price\n",
    "price_data = get_stock_data(ticker,start_date,end_date)\n",
    "df=pd.DataFrame(price_data)"
   ]
  },
  {
   "cell_type": "code",
   "execution_count": 10,
   "metadata": {},
   "outputs": [],
   "source": [
    "df=df['Adj Close'].resample('M').mean().reset_index()\n",
    "df=df.set_index('Date')"
   ]
  },
  {
   "cell_type": "code",
   "execution_count": 11,
   "metadata": {},
   "outputs": [
    {
     "data": {
      "text/plain": [
       "(72, 1)"
      ]
     },
     "execution_count": 11,
     "metadata": {},
     "output_type": "execute_result"
    }
   ],
   "source": [
    "df.shape"
   ]
  },
  {
   "cell_type": "code",
   "execution_count": 12,
   "metadata": {},
   "outputs": [
    {
     "name": "stderr",
     "output_type": "stream",
     "text": [
      "/Users/rahulodedra/anaconda3/lib/python3.11/site-packages/statsmodels/tsa/base/tsa_model.py:473: ValueWarning: No frequency information was provided, so inferred frequency M will be used.\n",
      "  self._init_dates(dates, freq)\n",
      "/Users/rahulodedra/anaconda3/lib/python3.11/site-packages/statsmodels/tsa/base/tsa_model.py:473: ValueWarning: No frequency information was provided, so inferred frequency M will be used.\n",
      "  self._init_dates(dates, freq)\n"
     ]
    },
    {
     "name": "stdout",
     "output_type": "stream",
     "text": [
      "                                     SARIMAX Results                                      \n",
      "==========================================================================================\n",
      "Dep. Variable:                          Adj Close   No. Observations:                   72\n",
      "Model:             SARIMAX(1, 1, 1)x(1, 1, 1, 12)   Log Likelihood                -287.594\n",
      "Date:                            Fri, 03 May 2024   AIC                            585.189\n",
      "Time:                                    13:57:07   BIC                            595.577\n",
      "Sample:                                01-31-2018   HQIC                           589.244\n",
      "                                     - 12-31-2023                                         \n",
      "Covariance Type:                              opg                                         \n",
      "==============================================================================\n",
      "                 coef    std err          z      P>|z|      [0.025      0.975]\n",
      "------------------------------------------------------------------------------\n",
      "ar.L1         -0.6149      0.144     -4.265      0.000      -0.897      -0.332\n",
      "ma.L1          0.9999     70.063      0.014      0.989    -136.321     138.321\n",
      "ar.S.L12      -0.1018      0.255     -0.400      0.689      -0.601       0.397\n",
      "ma.S.L12      -0.9998    586.832     -0.002      0.999   -1151.169    1149.170\n",
      "sigma2       627.6550   3.69e+05      0.002      0.999   -7.23e+05    7.24e+05\n",
      "===================================================================================\n",
      "Ljung-Box (L1) (Q):                   0.00   Jarque-Bera (JB):                 0.84\n",
      "Prob(Q):                              0.95   Prob(JB):                         0.66\n",
      "Heteroskedasticity (H):              13.87   Skew:                             0.21\n",
      "Prob(H) (two-sided):                  0.00   Kurtosis:                         3.42\n",
      "===================================================================================\n",
      "\n",
      "Warnings:\n",
      "[1] Covariance matrix calculated using the outer product of gradients (complex-step).\n"
     ]
    }
   ],
   "source": [
    "SARIMA_model = SARIMAX(df['Adj Close'],order = (1,1,1),seasonal_order = (1,1,1,12))\n",
    "result = SARIMA_model.fit(disp=0)\n",
    "# reults\n",
    "print(result.summary())"
   ]
  },
  {
   "cell_type": "code",
   "execution_count": 13,
   "metadata": {},
   "outputs": [
    {
     "data": {
      "image/png": "[encoded data removed]",
      "text/plain": [
       "<Figure size 800x500 with 1 Axes>"
      ]
     },
     "metadata": {},
     "output_type": "display_data"
    }
   ],
   "source": [
    "predicted = result.predict(start=40, end=72)\n",
    "df[\"Forecast\"] = result.predict(start=40, end=72)\n",
    "df[[\"Adj Close\",\"Forecast\"]].plot(figsize = (8,5));"
   ]
  },
  {
   "cell_type": "code",
   "execution_count": 14,
   "metadata": {},
   "outputs": [
    {
     "data": {
      "image/png": "[encoded data removed]",
      "text/plain": [
       "<Figure size 1500x800 with 1 Axes>"
      ]
     },
     "metadata": {},
     "output_type": "display_data"
    }
   ],
   "source": [
    "from pandas.tseries.offsets import DateOffset\n",
    "\n",
    "future_dates = [df.index[-1] + DateOffset(months = x) for x in range(1,10)]\n",
    "future_data = pd.DataFrame(index=future_dates,columns=df.columns)\n",
    "\n",
    "final_data=pd.concat([df,future_data])\n",
    "final_data.head()\n",
    "\n",
    "# forecasting\n",
    "final_data[\"Forecast\"]=result.predict(start=71,end=90)\n",
    "\n",
    "final_data[\"Adj Close\"].plot()\n",
    "final_data[\"Forecast\"].plot(figsize = (15,8))\n",
    "plt.title(\"Tesla Stock Forecast\",size = 20)\n",
    "plt.xlabel(\"Months\",size=15)\n",
    "plt.ylabel(\"Stock Price\",size=15)\n",
    "plt.legend();"
   ]
  },
  {
   "cell_type": "code",
   "execution_count": 15,
   "metadata": {},
   "outputs": [
    {
     "name": "stdout",
     "output_type": "stream",
     "text": [
      "RMSE of SARIMA model: 36.17\n"
     ]
    }
   ],
   "source": [
    "actual = df['Adj Close'][40:]\n",
    "predicted = predicted[:-1]\n",
    "sarimax_rmse = np.sqrt(mean_squared_error(actual,predicted))\n",
    "print('RMSE of SARIMA model:',round(sarimax_rmse,2))"
   ]
  },
  {
   "cell_type": "markdown",
   "metadata": {},
   "source": [
    "## RMSE Comparisons of Different Models"
   ]
  },
  {
   "cell_type": "code",
   "execution_count": 16,
   "metadata": {},
   "outputs": [
    {
     "data": {
      "text/html": [
       "<div>\n",
       "<style scoped>\n",
       "    .dataframe tbody tr th:only-of-type {\n",
       "        vertical-align: middle;\n",
       "    }\n",
       "\n",
       "    .dataframe tbody tr th {\n",
       "        vertical-align: top;\n",
       "    }\n",
       "\n",
       "    .dataframe thead th {\n",
       "        text-align: right;\n",
       "    }\n",
       "</style>\n",
       "<table border=\"1\" class=\"dataframe\">\n",
       "  <thead>\n",
       "    <tr style=\"text-align: right;\">\n",
       "      <th></th>\n",
       "      <th>RMSE</th>\n",
       "    </tr>\n",
       "    <tr>\n",
       "      <th>Model</th>\n",
       "      <th></th>\n",
       "    </tr>\n",
       "  </thead>\n",
       "  <tbody>\n",
       "    <tr>\n",
       "      <th>Linear Regression</th>\n",
       "      <td>20.183321</td>\n",
       "    </tr>\n",
       "    <tr>\n",
       "      <th>Random Forest</th>\n",
       "      <td>20.355050</td>\n",
       "    </tr>\n",
       "    <tr>\n",
       "      <th>XGBoost</th>\n",
       "      <td>9.068397</td>\n",
       "    </tr>\n",
       "    <tr>\n",
       "      <th>Sarimax</th>\n",
       "      <td>36.174437</td>\n",
       "    </tr>\n",
       "  </tbody>\n",
       "</table>\n",
       "</div>"
      ],
      "text/plain": [
       "                        RMSE\n",
       "Model                       \n",
       "Linear Regression  20.183321\n",
       "Random Forest      20.355050\n",
       "XGBoost             9.068397\n",
       "Sarimax            36.174437"
      ]
     },
     "execution_count": 16,
     "metadata": {},
     "output_type": "execute_result"
    }
   ],
   "source": [
    "rmse = {'Linear Regression':lr_rmse,\n",
    "        'Random Forest':rf_rmse,\n",
    "        'XGBoost':xg_rmse,\n",
    "        'Sarimax':sarimax_rmse}\n",
    "\n",
    "model_rmse = pd.DataFrame.from_dict(rmse,orient='index')\n",
    "model_rmse.index.name='Model'\n",
    "model_rmse.rename(columns={model_rmse.columns[0]:'RMSE ($)'})"
   ]
  },
  {
   "cell_type": "markdown",
   "metadata": {},
   "source": [
    "## "
   ]
  }
 ],
 "metadata": {
  "kernelspec": {
   "display_name": "Python 3 (ipykernel)",
   "language": "python",
   "name": "python3"
  },
  "language_info": {
   "codemirror_mode": {
    "name": "ipython",
    "version": 3
   },
   "file_extension": ".py",
   "mimetype": "text/x-python",
   "name": "python",
   "nbconvert_exporter": "python",
   "pygments_lexer": "ipython3",
   "version": "3.11.4"
  }
 },
 "nbformat": 4,
 "nbformat_minor": 2
}
